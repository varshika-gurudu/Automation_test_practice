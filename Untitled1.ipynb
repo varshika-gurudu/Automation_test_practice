{
 "cells": [
  {
   "cell_type": "code",
   "execution_count": 236,
   "id": "ed53a55e-159a-496c-ba8b-e156509ebfb5",
   "metadata": {},
   "outputs": [],
   "source": [
    "import selenium\n",
    "import time\n",
    "from selenium.webdriver.support.ui import Select\n",
    "from selenium import webdriver\n",
    "from selenium.webdriver.remote.webelement import WebElement\n",
    "from selenium.webdriver.common.action_chains import ActionChains\n",
    "from utilities.Logger import Log_Generator\n",
    "import pyselenium\n",
    "from utilities.readProperties import ReadConfig\n",
    "from selenium.common.exceptions import NoSuchElementException\n",
    "from selenium.common.exceptions import WebDriverException\n",
    "from selenium.webdriver.common.keys import Keys\n",
    "from selenium.webdriver.support.ui import WebDriverWait\n",
    "from selenium.webdriver.support import expected_conditions as EC\n",
    "from selenium.webdriver.common.by import By\n",
    "from TestCases_signup.check_characters import check_char\n",
    "from PageObjects.NameObject import sign_up\n"
   ]
  },
  {
   "cell_type": "code",
   "execution_count": 237,
   "id": "45c77e31-f921-43b0-b261-c654dcc92ba8",
   "metadata": {},
   "outputs": [],
   "source": [
    "driver = webdriver.Chrome('C:/Users/varsh/Desktop/TheFirstOne/chromedriver_win32/chromedriver.exe')\n",
    "driver.get('http://testautomationpractice.blogspot.com/')"
   ]
  },
  {
   "cell_type": "code",
   "execution_count": 144,
   "id": "75f6f9a5-bbfe-48e8-8f1c-a7f75ebaa7c8",
   "metadata": {},
   "outputs": [],
   "source": [
    "frm1 = driver.find_element_by_id('frame-one1434677811')"
   ]
  },
  {
   "cell_type": "code",
   "execution_count": 145,
   "id": "2b95c889-eae9-4392-a975-6f0801760d0f",
   "metadata": {},
   "outputs": [],
   "source": [
    "driver.switch_to.frame(frm1)"
   ]
  },
  {
   "cell_type": "code",
   "execution_count": 146,
   "id": "9e83c5e0-2838-4c52-a09c-76c407670c38",
   "metadata": {},
   "outputs": [],
   "source": [
    "checktable = driver.find_element_by_xpath('/html/body/form/div[2]/div[17]/table')"
   ]
  },
  {
   "cell_type": "code",
   "execution_count": 147,
   "id": "88abc7f9-2332-4bd5-ad24-bede8dcefc70",
   "metadata": {},
   "outputs": [],
   "source": [
    "inputchildren = checktable.find_elements_by_css_selector(\"td label\")"
   ]
  },
  {
   "cell_type": "code",
   "execution_count": 148,
   "id": "0e7123c4-4ae8-49f1-abdb-a7c6461564bf",
   "metadata": {},
   "outputs": [],
   "source": [
    "for checkchild in inputchildren:\n",
    "    #print(checkchild.get_attribute('type'))\n",
    "    checkchild.click()\n",
    "    #print(checkchild.get_attribute('checked'))\n",
    "    "
   ]
  },
  {
   "cell_type": "code",
   "execution_count": 149,
   "id": "6456a4fb-4c76-4871-89d4-fddb5f98a08b",
   "metadata": {},
   "outputs": [
    {
     "name": "stdout",
     "output_type": "stream",
     "text": [
      "not selected\n",
      "not selected\n",
      "not selected\n",
      "not selected\n",
      "not selected\n",
      "not selected\n",
      "not selected\n"
     ]
    }
   ],
   "source": [
    "for checkchild in inputchildren:\n",
    "    if checkchild.is_selected():\n",
    "        checkchild.click()\n",
    "        print('done')\n",
    "    else:\n",
    "        print('not selected')"
   ]
  },
  {
   "cell_type": "code",
   "execution_count": null,
   "id": "3398f11b-078f-45b8-932b-fda4c6cd4291",
   "metadata": {},
   "outputs": [],
   "source": []
  },
  {
   "cell_type": "code",
   "execution_count": 238,
   "id": "02c3ca06-3f63-476a-84c5-a6d1dada2e84",
   "metadata": {},
   "outputs": [
    {
     "ename": "WebDriverException",
     "evalue": "Message: chrome not reachable\n  (Session info: chrome=90.0.4430.212)\n",
     "output_type": "error",
     "traceback": [
      "\u001b[1;31m---------------------------------------------------------------------------\u001b[0m",
      "\u001b[1;31mWebDriverException\u001b[0m                        Traceback (most recent call last)",
      "\u001b[1;32m<ipython-input-238-3006b8171d00>\u001b[0m in \u001b[0;36m<module>\u001b[1;34m\u001b[0m\n\u001b[1;32m----> 1\u001b[1;33m \u001b[0mElement\u001b[0m\u001b[1;33m.\u001b[0m\u001b[0mis_selected\u001b[0m\u001b[1;33m(\u001b[0m\u001b[1;33m)\u001b[0m\u001b[1;33m\u001b[0m\u001b[1;33m\u001b[0m\u001b[0m\n\u001b[0m",
      "\u001b[1;32m~\\AppData\\Roaming\\Python\\Python38\\site-packages\\selenium\\webdriver\\remote\\webelement.py\u001b[0m in \u001b[0;36mis_selected\u001b[1;34m(self)\u001b[0m\n\u001b[0;32m    153\u001b[0m         \u001b[0mCan\u001b[0m \u001b[0mbe\u001b[0m \u001b[0mused\u001b[0m \u001b[0mto\u001b[0m \u001b[0mcheck\u001b[0m \u001b[1;32mif\u001b[0m \u001b[0ma\u001b[0m \u001b[0mcheckbox\u001b[0m \u001b[1;32mor\u001b[0m \u001b[0mradio\u001b[0m \u001b[0mbutton\u001b[0m \u001b[1;32mis\u001b[0m \u001b[0mselected\u001b[0m\u001b[1;33m.\u001b[0m\u001b[1;33m\u001b[0m\u001b[1;33m\u001b[0m\u001b[0m\n\u001b[0;32m    154\u001b[0m         \"\"\"\n\u001b[1;32m--> 155\u001b[1;33m         \u001b[1;32mreturn\u001b[0m \u001b[0mself\u001b[0m\u001b[1;33m.\u001b[0m\u001b[0m_execute\u001b[0m\u001b[1;33m(\u001b[0m\u001b[0mCommand\u001b[0m\u001b[1;33m.\u001b[0m\u001b[0mIS_ELEMENT_SELECTED\u001b[0m\u001b[1;33m)\u001b[0m\u001b[1;33m[\u001b[0m\u001b[1;34m'value'\u001b[0m\u001b[1;33m]\u001b[0m\u001b[1;33m\u001b[0m\u001b[1;33m\u001b[0m\u001b[0m\n\u001b[0m\u001b[0;32m    156\u001b[0m \u001b[1;33m\u001b[0m\u001b[0m\n\u001b[0;32m    157\u001b[0m     \u001b[1;32mdef\u001b[0m \u001b[0mis_enabled\u001b[0m\u001b[1;33m(\u001b[0m\u001b[0mself\u001b[0m\u001b[1;33m)\u001b[0m\u001b[1;33m:\u001b[0m\u001b[1;33m\u001b[0m\u001b[1;33m\u001b[0m\u001b[0m\n",
      "\u001b[1;32m~\\AppData\\Roaming\\Python\\Python38\\site-packages\\selenium\\webdriver\\remote\\webelement.py\u001b[0m in \u001b[0;36m_execute\u001b[1;34m(self, command, params)\u001b[0m\n\u001b[0;32m    631\u001b[0m             \u001b[0mparams\u001b[0m \u001b[1;33m=\u001b[0m \u001b[1;33m{\u001b[0m\u001b[1;33m}\u001b[0m\u001b[1;33m\u001b[0m\u001b[1;33m\u001b[0m\u001b[0m\n\u001b[0;32m    632\u001b[0m         \u001b[0mparams\u001b[0m\u001b[1;33m[\u001b[0m\u001b[1;34m'id'\u001b[0m\u001b[1;33m]\u001b[0m \u001b[1;33m=\u001b[0m \u001b[0mself\u001b[0m\u001b[1;33m.\u001b[0m\u001b[0m_id\u001b[0m\u001b[1;33m\u001b[0m\u001b[1;33m\u001b[0m\u001b[0m\n\u001b[1;32m--> 633\u001b[1;33m         \u001b[1;32mreturn\u001b[0m \u001b[0mself\u001b[0m\u001b[1;33m.\u001b[0m\u001b[0m_parent\u001b[0m\u001b[1;33m.\u001b[0m\u001b[0mexecute\u001b[0m\u001b[1;33m(\u001b[0m\u001b[0mcommand\u001b[0m\u001b[1;33m,\u001b[0m \u001b[0mparams\u001b[0m\u001b[1;33m)\u001b[0m\u001b[1;33m\u001b[0m\u001b[1;33m\u001b[0m\u001b[0m\n\u001b[0m\u001b[0;32m    634\u001b[0m \u001b[1;33m\u001b[0m\u001b[0m\n\u001b[0;32m    635\u001b[0m     \u001b[1;32mdef\u001b[0m \u001b[0mfind_element\u001b[0m\u001b[1;33m(\u001b[0m\u001b[0mself\u001b[0m\u001b[1;33m,\u001b[0m \u001b[0mby\u001b[0m\u001b[1;33m=\u001b[0m\u001b[0mBy\u001b[0m\u001b[1;33m.\u001b[0m\u001b[0mID\u001b[0m\u001b[1;33m,\u001b[0m \u001b[0mvalue\u001b[0m\u001b[1;33m=\u001b[0m\u001b[1;32mNone\u001b[0m\u001b[1;33m)\u001b[0m\u001b[1;33m:\u001b[0m\u001b[1;33m\u001b[0m\u001b[1;33m\u001b[0m\u001b[0m\n",
      "\u001b[1;32m~\\AppData\\Roaming\\Python\\Python38\\site-packages\\selenium\\webdriver\\remote\\webdriver.py\u001b[0m in \u001b[0;36mexecute\u001b[1;34m(self, driver_command, params)\u001b[0m\n\u001b[0;32m    319\u001b[0m         \u001b[0mresponse\u001b[0m \u001b[1;33m=\u001b[0m \u001b[0mself\u001b[0m\u001b[1;33m.\u001b[0m\u001b[0mcommand_executor\u001b[0m\u001b[1;33m.\u001b[0m\u001b[0mexecute\u001b[0m\u001b[1;33m(\u001b[0m\u001b[0mdriver_command\u001b[0m\u001b[1;33m,\u001b[0m \u001b[0mparams\u001b[0m\u001b[1;33m)\u001b[0m\u001b[1;33m\u001b[0m\u001b[1;33m\u001b[0m\u001b[0m\n\u001b[0;32m    320\u001b[0m         \u001b[1;32mif\u001b[0m \u001b[0mresponse\u001b[0m\u001b[1;33m:\u001b[0m\u001b[1;33m\u001b[0m\u001b[1;33m\u001b[0m\u001b[0m\n\u001b[1;32m--> 321\u001b[1;33m             \u001b[0mself\u001b[0m\u001b[1;33m.\u001b[0m\u001b[0merror_handler\u001b[0m\u001b[1;33m.\u001b[0m\u001b[0mcheck_response\u001b[0m\u001b[1;33m(\u001b[0m\u001b[0mresponse\u001b[0m\u001b[1;33m)\u001b[0m\u001b[1;33m\u001b[0m\u001b[1;33m\u001b[0m\u001b[0m\n\u001b[0m\u001b[0;32m    322\u001b[0m             response['value'] = self._unwrap_value(\n\u001b[0;32m    323\u001b[0m                 response.get('value', None))\n",
      "\u001b[1;32m~\\AppData\\Roaming\\Python\\Python38\\site-packages\\selenium\\webdriver\\remote\\errorhandler.py\u001b[0m in \u001b[0;36mcheck_response\u001b[1;34m(self, response)\u001b[0m\n\u001b[0;32m    240\u001b[0m                 \u001b[0malert_text\u001b[0m \u001b[1;33m=\u001b[0m \u001b[0mvalue\u001b[0m\u001b[1;33m[\u001b[0m\u001b[1;34m'alert'\u001b[0m\u001b[1;33m]\u001b[0m\u001b[1;33m.\u001b[0m\u001b[0mget\u001b[0m\u001b[1;33m(\u001b[0m\u001b[1;34m'text'\u001b[0m\u001b[1;33m)\u001b[0m\u001b[1;33m\u001b[0m\u001b[1;33m\u001b[0m\u001b[0m\n\u001b[0;32m    241\u001b[0m             \u001b[1;32mraise\u001b[0m \u001b[0mexception_class\u001b[0m\u001b[1;33m(\u001b[0m\u001b[0mmessage\u001b[0m\u001b[1;33m,\u001b[0m \u001b[0mscreen\u001b[0m\u001b[1;33m,\u001b[0m \u001b[0mstacktrace\u001b[0m\u001b[1;33m,\u001b[0m \u001b[0malert_text\u001b[0m\u001b[1;33m)\u001b[0m\u001b[1;33m\u001b[0m\u001b[1;33m\u001b[0m\u001b[0m\n\u001b[1;32m--> 242\u001b[1;33m         \u001b[1;32mraise\u001b[0m \u001b[0mexception_class\u001b[0m\u001b[1;33m(\u001b[0m\u001b[0mmessage\u001b[0m\u001b[1;33m,\u001b[0m \u001b[0mscreen\u001b[0m\u001b[1;33m,\u001b[0m \u001b[0mstacktrace\u001b[0m\u001b[1;33m)\u001b[0m\u001b[1;33m\u001b[0m\u001b[1;33m\u001b[0m\u001b[0m\n\u001b[0m\u001b[0;32m    243\u001b[0m \u001b[1;33m\u001b[0m\u001b[0m\n\u001b[0;32m    244\u001b[0m     \u001b[1;32mdef\u001b[0m \u001b[0m_value_or_default\u001b[0m\u001b[1;33m(\u001b[0m\u001b[0mself\u001b[0m\u001b[1;33m,\u001b[0m \u001b[0mobj\u001b[0m\u001b[1;33m,\u001b[0m \u001b[0mkey\u001b[0m\u001b[1;33m,\u001b[0m \u001b[0mdefault\u001b[0m\u001b[1;33m)\u001b[0m\u001b[1;33m:\u001b[0m\u001b[1;33m\u001b[0m\u001b[1;33m\u001b[0m\u001b[0m\n",
      "\u001b[1;31mWebDriverException\u001b[0m: Message: chrome not reachable\n  (Session info: chrome=90.0.4430.212)\n"
     ]
    }
   ],
   "source": [
    "Element.is_selected()"
   ]
  },
  {
   "cell_type": "code",
   "execution_count": null,
   "id": "74d92ac6-b64b-463b-b2ee-1df8d0fa691f",
   "metadata": {},
   "outputs": [],
   "source": []
  },
  {
   "cell_type": "code",
   "execution_count": 152,
   "id": "793887db-ac2b-4b0c-9ff7-d704bf14bf4b",
   "metadata": {},
   "outputs": [
    {
     "data": {
      "text/plain": [
       "False"
      ]
     },
     "execution_count": 152,
     "metadata": {},
     "output_type": "execute_result"
    }
   ],
   "source": [
    "driver.find_element_by_xpath('//*[@id=\"RESULT_RadioButton-7_1\"]').is_selected()"
   ]
  },
  {
   "cell_type": "code",
   "execution_count": 153,
   "id": "b18888ee-2e75-4c68-8933-f21b473836dd",
   "metadata": {},
   "outputs": [],
   "source": [
    "a = driver.find_elements_by_class_name('RESULT_CheckBox-8')"
   ]
  },
  {
   "cell_type": "code",
   "execution_count": 154,
   "id": "fe7fb0aa-621a-455c-acbe-e83652a1e85a",
   "metadata": {},
   "outputs": [
    {
     "data": {
      "text/plain": [
       "0"
      ]
     },
     "execution_count": 154,
     "metadata": {},
     "output_type": "execute_result"
    }
   ],
   "source": [
    "len(a)"
   ]
  },
  {
   "cell_type": "code",
   "execution_count": 155,
   "id": "02c90442-f323-47b9-b347-ccbe04341a25",
   "metadata": {},
   "outputs": [],
   "source": [
    "file_upload = driver.find_element_by_xpath('//*[@id=\"RESULT_FileUpload-10\"]')"
   ]
  },
  {
   "cell_type": "code",
   "execution_count": 156,
   "id": "954784c7-9bf7-4e92-aea7-fefab7829ae7",
   "metadata": {},
   "outputs": [],
   "source": [
    "file_upload.send_keys('C:/Users/varsh/Pictures/Saved Pictures/6K8A9247.jpg')"
   ]
  },
  {
   "cell_type": "code",
   "execution_count": 239,
   "id": "b8e4411b-c82d-44da-ad67-8835d72b1e97",
   "metadata": {},
   "outputs": [
    {
     "data": {
      "text/plain": [
       "<selenium.webdriver.remote.webelement.WebElement (session=\"d5f483a758348d44825f184bd312bd7b\", element=\"5cc945cc-dcad-493a-9430-0848fb2fcdfc\")>"
      ]
     },
     "execution_count": 239,
     "metadata": {},
     "output_type": "execute_result"
    }
   ],
   "source": [
    "driver.find_element_by_xpath('//*[@id=\"Wikipedia1_wikipedia-search-input\"]')"
   ]
  },
  {
   "cell_type": "code",
   "execution_count": 240,
   "id": "513705da-ec1d-4e9a-becb-e703c5ae9bce",
   "metadata": {},
   "outputs": [],
   "source": [
    "driver.find_element_by_xpath('//*[@id=\"Wikipedia1_wikipedia-search-input\"]').send_keys('Atom')"
   ]
  },
  {
   "cell_type": "code",
   "execution_count": 241,
   "id": "3acbc526-d53f-4382-be80-15a39cf1a595",
   "metadata": {},
   "outputs": [
    {
     "data": {
      "text/plain": [
       "'Atom'"
      ]
     },
     "execution_count": 241,
     "metadata": {},
     "output_type": "execute_result"
    }
   ],
   "source": [
    "driver.find_element_by_xpath('//*[@id=\"Wikipedia1_wikipedia-search-input\"]').get_attribute('value')"
   ]
  },
  {
   "cell_type": "code",
   "execution_count": 242,
   "id": "6f818e11-ddb8-4d5f-b33f-9eceb67c81ca",
   "metadata": {},
   "outputs": [],
   "source": [
    "search_button = driver.find_element_by_xpath('//*[@id=\"Wikipedia1_wikipedia-search-form\"]/div/span[2]/span[2]/input')\n",
    "search_button.click()\n"
   ]
  },
  {
   "cell_type": "code",
   "execution_count": 243,
   "id": "749fb617-8832-43cb-b272-6b169183c5e4",
   "metadata": {},
   "outputs": [],
   "source": [
    "search = driver.find_element_by_xpath('//*[@id=\"wikipedia-search-result-link\"]/a')"
   ]
  },
  {
   "cell_type": "code",
   "execution_count": 244,
   "id": "6097749a-7c01-4612-896d-b8c9161ffe4e",
   "metadata": {},
   "outputs": [
    {
     "data": {
      "text/plain": [
       "<selenium.webdriver.common.action_chains.ActionChains at 0x166af89d940>"
      ]
     },
     "execution_count": 244,
     "metadata": {},
     "output_type": "execute_result"
    }
   ],
   "source": [
    "ActionChains(driver)\n"
   ]
  },
  {
   "cell_type": "code",
   "execution_count": 245,
   "id": "68e0d150-df58-4b73-9587-fb6a2a9fb340",
   "metadata": {},
   "outputs": [],
   "source": [
    "search_result = driver.find_elements_by_id('wikipedia-search-result-link')"
   ]
  },
  {
   "cell_type": "code",
   "execution_count": 246,
   "id": "9801b9f7-3d3b-4523-bd62-b4eaad4b0f3e",
   "metadata": {},
   "outputs": [
    {
     "data": {
      "text/plain": [
       "5"
      ]
     },
     "execution_count": 246,
     "metadata": {},
     "output_type": "execute_result"
    }
   ],
   "source": [
    "len(search_result)"
   ]
  },
  {
   "cell_type": "code",
   "execution_count": 247,
   "id": "5c021a0f-179a-4bf6-ac72-0149c81a3666",
   "metadata": {},
   "outputs": [],
   "source": [
    "\n",
    "driver.find_elements_by_xpath('//*[@id=\"wikipedia-search-result-link\"]/a')[3].click()"
   ]
  },
  {
   "cell_type": "code",
   "execution_count": 250,
   "id": "457448a7-7292-4e69-9039-ca1c606d29d0",
   "metadata": {},
   "outputs": [],
   "source": [
    "search_result_links = driver.find_elements_by_xpath('//*[@id=\"wikipedia-search-result-link\"]/a')"
   ]
  },
  {
   "cell_type": "code",
   "execution_count": 252,
   "id": "cab795e3-f643-40ed-8d3a-903a059eb3a4",
   "metadata": {},
   "outputs": [],
   "source": [
    "for i in search_result_links:\n",
    "    i.click()"
   ]
  },
  {
   "cell_type": "code",
   "execution_count": null,
   "id": "4ec99f28-6773-488d-b67e-f47540cf10b2",
   "metadata": {},
   "outputs": [],
   "source": []
  }
 ],
 "metadata": {
  "kernelspec": {
   "display_name": "Python 3",
   "language": "python",
   "name": "python3"
  },
  "language_info": {
   "codemirror_mode": {
    "name": "ipython",
    "version": 3
   },
   "file_extension": ".py",
   "mimetype": "text/x-python",
   "name": "python",
   "nbconvert_exporter": "python",
   "pygments_lexer": "ipython3",
   "version": "3.8.10"
  }
 },
 "nbformat": 4,
 "nbformat_minor": 5
}
